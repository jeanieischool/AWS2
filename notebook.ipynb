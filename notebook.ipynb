{
 "cells": [
  {
   "cell_type": "code",
   "metadata": {
    "tags": [],
    "cell_id": "00000-9622a6e0-7371-4ef6-8f11-2ea7b3bf3f59",
    "deepnote_to_be_reexecuted": false,
    "source_hash": "38a3229e",
    "execution_start": 1634170730231,
    "execution_millis": 147,
    "deepnote_cell_type": "code"
   },
   "source": "import pandas as pd\ndf = pd.read_csv('/work/cars.csv')\ndf.head()",
   "outputs": [
    {
     "output_type": "execute_result",
     "execution_count": 1,
     "data": {
      "application/vnd.deepnote.dataframe.v2+json": {
       "row_count": 5,
       "column_count": 22,
       "columns": [
        {
         "name": "class_id",
         "dtype": "int64",
         "stats": {
          "unique_count": 2,
          "nan_count": 0,
          "min": "1024",
          "max": "1025",
          "histogram": [
           {
            "bin_start": 1024,
            "bin_end": 1024.1,
            "count": 3
           },
           {
            "bin_start": 1024.1,
            "bin_end": 1024.2,
            "count": 0
           },
           {
            "bin_start": 1024.2,
            "bin_end": 1024.3,
            "count": 0
           },
           {
            "bin_start": 1024.3,
            "bin_end": 1024.4,
            "count": 0
           },
           {
            "bin_start": 1024.4,
            "bin_end": 1024.5,
            "count": 0
           },
           {
            "bin_start": 1024.5,
            "bin_end": 1024.6,
            "count": 0
           },
           {
            "bin_start": 1024.6,
            "bin_end": 1024.7,
            "count": 0
           },
           {
            "bin_start": 1024.7,
            "bin_end": 1024.8,
            "count": 0
           },
           {
            "bin_start": 1024.8,
            "bin_end": 1024.9,
            "count": 0
           },
           {
            "bin_start": 1024.9,
            "bin_end": 1025,
            "count": 2
           }
          ]
         }
        },
        {
         "name": "image_tag",
         "dtype": "object",
         "stats": {
          "unique_count": 2,
          "nan_count": 0,
          "categories": [
           {
            "name": "Car ahead",
            "count": 3
           },
           {
            "name": "Crosswalk",
            "count": 2
           }
          ]
         }
        },
        {
         "name": "state",
         "dtype": "object",
         "stats": {
          "unique_count": 1,
          "nan_count": 0,
          "categories": [
           {
            "name": "PROCESSED",
            "count": 5
           }
          ]
         }
        },
        {
         "name": "updated_at",
         "dtype": "object",
         "stats": {
          "unique_count": 2,
          "nan_count": 0,
          "categories": [
           {
            "name": "2021-01-04 19:25:20.685405+00",
            "count": 3
           },
           {
            "name": "2021-01-04 19:35:20.681268+00",
            "count": 2
           }
          ]
         }
        },
        {
         "name": "total_task_duration",
         "dtype": "float64",
         "stats": {
          "unique_count": 2,
          "nan_count": 0,
          "min": "1.8",
          "max": "5.6",
          "histogram": [
           {
            "bin_start": 1.8,
            "bin_end": 2.18,
            "count": 2
           },
           {
            "bin_start": 2.18,
            "bin_end": 2.56,
            "count": 0
           },
           {
            "bin_start": 2.56,
            "bin_end": 2.9400000000000004,
            "count": 0
           },
           {
            "bin_start": 2.9400000000000004,
            "bin_end": 3.3200000000000003,
            "count": 0
           },
           {
            "bin_start": 3.3200000000000003,
            "bin_end": 3.7,
            "count": 0
           },
           {
            "bin_start": 3.7,
            "bin_end": 4.08,
            "count": 0
           },
           {
            "bin_start": 4.08,
            "bin_end": 4.46,
            "count": 0
           },
           {
            "bin_start": 4.46,
            "bin_end": 4.84,
            "count": 0
           },
           {
            "bin_start": 4.84,
            "bin_end": 5.22,
            "count": 0
           },
           {
            "bin_start": 5.22,
            "bin_end": 5.6,
            "count": 3
           }
          ]
         }
        },
        {
         "name": "tat",
         "dtype": "float64",
         "stats": {
          "unique_count": 2,
          "nan_count": 0,
          "min": "32.5",
          "max": "33.2",
          "histogram": [
           {
            "bin_start": 32.5,
            "bin_end": 32.57,
            "count": 2
           },
           {
            "bin_start": 32.57,
            "bin_end": 32.64,
            "count": 0
           },
           {
            "bin_start": 32.64,
            "bin_end": 32.71,
            "count": 0
           },
           {
            "bin_start": 32.71,
            "bin_end": 32.78,
            "count": 0
           },
           {
            "bin_start": 32.78,
            "bin_end": 32.85,
            "count": 0
           },
           {
            "bin_start": 32.85,
            "bin_end": 32.92,
            "count": 0
           },
           {
            "bin_start": 32.92,
            "bin_end": 32.99,
            "count": 0
           },
           {
            "bin_start": 32.99,
            "bin_end": 33.06,
            "count": 0
           },
           {
            "bin_start": 33.06,
            "bin_end": 33.13,
            "count": 0
           },
           {
            "bin_start": 33.13,
            "bin_end": 33.2,
            "count": 3
           }
          ]
         }
        },
        {
         "name": "task_id",
         "dtype": "int64",
         "stats": {
          "unique_count": 5,
          "nan_count": 0,
          "min": "1909",
          "max": "2031",
          "histogram": [
           {
            "bin_start": 1909,
            "bin_end": 1921.2,
            "count": 2
           },
           {
            "bin_start": 1921.2,
            "bin_end": 1933.4,
            "count": 0
           },
           {
            "bin_start": 1933.4,
            "bin_end": 1945.6,
            "count": 0
           },
           {
            "bin_start": 1945.6,
            "bin_end": 1957.8,
            "count": 0
           },
           {
            "bin_start": 1957.8,
            "bin_end": 1970,
            "count": 0
           },
           {
            "bin_start": 1970,
            "bin_end": 1982.2,
            "count": 1
           },
           {
            "bin_start": 1982.2,
            "bin_end": 1994.4,
            "count": 1
           },
           {
            "bin_start": 1994.4,
            "bin_end": 2006.6,
            "count": 0
           },
           {
            "bin_start": 2006.6,
            "bin_end": 2018.8,
            "count": 0
           },
           {
            "bin_start": 2018.8,
            "bin_end": 2031,
            "count": 1
           }
          ]
         }
        },
        {
         "name": "action_history",
         "dtype": "int64",
         "stats": {
          "unique_count": 2,
          "nan_count": 0,
          "min": "485",
          "max": "491",
          "histogram": [
           {
            "bin_start": 485,
            "bin_end": 485.6,
            "count": 3
           },
           {
            "bin_start": 485.6,
            "bin_end": 486.2,
            "count": 0
           },
           {
            "bin_start": 486.2,
            "bin_end": 486.8,
            "count": 0
           },
           {
            "bin_start": 486.8,
            "bin_end": 487.4,
            "count": 0
           },
           {
            "bin_start": 487.4,
            "bin_end": 488,
            "count": 0
           },
           {
            "bin_start": 488,
            "bin_end": 488.6,
            "count": 0
           },
           {
            "bin_start": 488.6,
            "bin_end": 489.2,
            "count": 0
           },
           {
            "bin_start": 489.2,
            "bin_end": 489.8,
            "count": 0
           },
           {
            "bin_start": 489.8,
            "bin_end": 490.4,
            "count": 0
           },
           {
            "bin_start": 490.4,
            "bin_end": 491,
            "count": 2
           }
          ]
         }
        },
        {
         "name": "task_image_tag",
         "dtype": "object",
         "stats": {
          "unique_count": 2,
          "nan_count": 2,
          "categories": [
           {
            "name": "Car ahead",
            "count": 2
           },
           {
            "name": "Crosswalk",
            "count": 1
           },
           {
            "name": "Missing",
            "count": 2
           }
          ]
         }
        },
        {
         "name": "finalized",
         "dtype": "bool",
         "stats": {
          "unique_count": 2,
          "nan_count": 0,
          "categories": [
           {
            "name": "False",
            "count": 4
           },
           {
            "name": "True",
            "count": 1
           }
          ]
         }
        },
        {
         "name": "approved",
         "dtype": "object",
         "stats": {
          "unique_count": 2,
          "nan_count": 0,
          "categories": [
           {
            "name": "True",
            "count": 3
           },
           {
            "name": "False",
            "count": 2
           }
          ]
         }
        },
        {
         "name": "team",
         "dtype": "object",
         "stats": {
          "unique_count": 3,
          "nan_count": 0,
          "categories": [
           {
            "name": "bot",
            "count": 2
           },
           {
            "name": "sanfrancisco",
            "count": 2
           },
           {
            "name": "sanfrancisco_reviewer",
            "count": 1
           }
          ]
         }
        },
        {
         "name": "started_at",
         "dtype": "object",
         "stats": {
          "unique_count": 5,
          "nan_count": 0,
          "categories": [
           {
            "name": "2021-01-03 10:10:21.514954+00",
            "count": 1
           },
           {
            "name": "2021-01-04 14:54:31.249017+00",
            "count": 1
           },
           {
            "name": "3 others",
            "count": 3
           }
          ]
         }
        },
        {
         "name": "ended_at",
         "dtype": "object",
         "stats": {
          "unique_count": 5,
          "nan_count": 0,
          "categories": [
           {
            "name": "2021-01-03 10:10:21.514956+00",
            "count": 1
           },
           {
            "name": "2021-01-04 14:59:34.839488+00",
            "count": 1
           },
           {
            "name": "3 others",
            "count": 3
           }
          ]
         }
        },
        {
         "name": "task_duration_mins",
         "dtype": "float64",
         "stats": {
          "unique_count": 4,
          "nan_count": 0,
          "min": "0.0",
          "max": "5.1",
          "histogram": [
           {
            "bin_start": 0,
            "bin_end": 0.51,
            "count": 3
           },
           {
            "bin_start": 0.51,
            "bin_end": 1.02,
            "count": 0
           },
           {
            "bin_start": 1.02,
            "bin_end": 1.53,
            "count": 1
           },
           {
            "bin_start": 1.53,
            "bin_end": 2.04,
            "count": 0
           },
           {
            "bin_start": 2.04,
            "bin_end": 2.55,
            "count": 0
           },
           {
            "bin_start": 2.55,
            "bin_end": 3.06,
            "count": 0
           },
           {
            "bin_start": 3.06,
            "bin_end": 3.5700000000000003,
            "count": 0
           },
           {
            "bin_start": 3.5700000000000003,
            "bin_end": 4.08,
            "count": 0
           },
           {
            "bin_start": 4.08,
            "bin_end": 4.59,
            "count": 0
           },
           {
            "bin_start": 4.59,
            "bin_end": 5.1,
            "count": 1
           }
          ]
         }
        },
        {
         "name": "rejection",
         "dtype": "object",
         "stats": {
          "unique_count": 0,
          "nan_count": 5,
          "categories": [
           {
            "name": "Missing",
            "count": 5
           }
          ]
         }
        },
        {
         "name": "car_name",
         "dtype": "object",
         "stats": {
          "unique_count": 1,
          "nan_count": 0,
          "categories": [
           {
            "name": "Tesla Model X",
            "count": 5
           }
          ]
         }
        },
        {
         "name": "inactivity_duration",
         "dtype": "float64",
         "stats": {
          "unique_count": 2,
          "nan_count": 0,
          "min": "32.5",
          "max": "33.1",
          "histogram": [
           {
            "bin_start": 32.5,
            "bin_end": 32.56,
            "count": 2
           },
           {
            "bin_start": 32.56,
            "bin_end": 32.62,
            "count": 0
           },
           {
            "bin_start": 32.62,
            "bin_end": 32.68,
            "count": 0
           },
           {
            "bin_start": 32.68,
            "bin_end": 32.74,
            "count": 0
           },
           {
            "bin_start": 32.74,
            "bin_end": 32.8,
            "count": 0
           },
           {
            "bin_start": 32.8,
            "bin_end": 32.86,
            "count": 0
           },
           {
            "bin_start": 32.86,
            "bin_end": 32.92,
            "count": 0
           },
           {
            "bin_start": 32.92,
            "bin_end": 32.980000000000004,
            "count": 0
           },
           {
            "bin_start": 32.980000000000004,
            "bin_end": 33.04,
            "count": 0
           },
           {
            "bin_start": 33.04,
            "bin_end": 33.1,
            "count": 3
           }
          ]
         }
        },
        {
         "name": "Month",
         "dtype": "object",
         "stats": {
          "unique_count": 1,
          "nan_count": 0,
          "categories": [
           {
            "name": "01-2021",
            "count": 5
           }
          ]
         }
        },
        {
         "name": "Deviation",
         "dtype": "float64",
         "stats": {
          "unique_count": 4,
          "nan_count": 0,
          "min": "-0.52",
          "max": "3.28",
          "histogram": [
           {
            "bin_start": -0.52,
            "bin_end": -0.14,
            "count": 2
           },
           {
            "bin_start": -0.14,
            "bin_end": 0.24,
            "count": 2
           },
           {
            "bin_start": 0.24,
            "bin_end": 0.6200000000000001,
            "count": 0
           },
           {
            "bin_start": 0.6200000000000001,
            "bin_end": 1,
            "count": 0
           },
           {
            "bin_start": 1,
            "bin_end": 1.38,
            "count": 0
           },
           {
            "bin_start": 1.38,
            "bin_end": 1.7600000000000002,
            "count": 0
           },
           {
            "bin_start": 1.7600000000000002,
            "bin_end": 2.14,
            "count": 0
           },
           {
            "bin_start": 2.14,
            "bin_end": 2.52,
            "count": 0
           },
           {
            "bin_start": 2.52,
            "bin_end": 2.9,
            "count": 0
           },
           {
            "bin_start": 2.9,
            "bin_end": 3.28,
            "count": 1
           }
          ]
         }
        },
        {
         "name": "Unnamed: 20",
         "dtype": "float64",
         "stats": {
          "unique_count": 0,
          "nan_count": 5,
          "min": null,
          "max": null,
          "histogram": [
           {
            "bin_start": 0,
            "bin_end": 0.1,
            "count": 0
           },
           {
            "bin_start": 0.1,
            "bin_end": 0.2,
            "count": 0
           },
           {
            "bin_start": 0.2,
            "bin_end": 0.30000000000000004,
            "count": 0
           },
           {
            "bin_start": 0.30000000000000004,
            "bin_end": 0.4,
            "count": 0
           },
           {
            "bin_start": 0.4,
            "bin_end": 0.5,
            "count": 0
           },
           {
            "bin_start": 0.5,
            "bin_end": 0.6000000000000001,
            "count": 0
           },
           {
            "bin_start": 0.6000000000000001,
            "bin_end": 0.7000000000000001,
            "count": 0
           },
           {
            "bin_start": 0.7000000000000001,
            "bin_end": 0.8,
            "count": 0
           },
           {
            "bin_start": 0.8,
            "bin_end": 0.9,
            "count": 0
           },
           {
            "bin_start": 0.9,
            "bin_end": 1,
            "count": 0
           }
          ]
         }
        },
        {
         "name": "Standard Deviations",
         "dtype": "float64",
         "stats": {
          "unique_count": 0,
          "nan_count": 5,
          "min": null,
          "max": null,
          "histogram": [
           {
            "bin_start": 0,
            "bin_end": 0.1,
            "count": 0
           },
           {
            "bin_start": 0.1,
            "bin_end": 0.2,
            "count": 0
           },
           {
            "bin_start": 0.2,
            "bin_end": 0.30000000000000004,
            "count": 0
           },
           {
            "bin_start": 0.30000000000000004,
            "bin_end": 0.4,
            "count": 0
           },
           {
            "bin_start": 0.4,
            "bin_end": 0.5,
            "count": 0
           },
           {
            "bin_start": 0.5,
            "bin_end": 0.6000000000000001,
            "count": 0
           },
           {
            "bin_start": 0.6000000000000001,
            "bin_end": 0.7000000000000001,
            "count": 0
           },
           {
            "bin_start": 0.7000000000000001,
            "bin_end": 0.8,
            "count": 0
           },
           {
            "bin_start": 0.8,
            "bin_end": 0.9,
            "count": 0
           },
           {
            "bin_start": 0.9,
            "bin_end": 1,
            "count": 0
           }
          ]
         }
        },
        {
         "name": "_deepnote_index_column",
         "dtype": "int64"
        }
       ],
       "rows_top": [
        {
         "class_id": 1024,
         "image_tag": "Car ahead",
         "state": "PROCESSED",
         "updated_at": "2021-01-04 19:25:20.685405+00",
         "total_task_duration": 5.6,
         "tat": 33.2,
         "task_id": 1909,
         "action_history": 485,
         "task_image_tag": "nan",
         "finalized": "False",
         "approved": "False",
         "team": "bot",
         "started_at": "2021-01-03 10:10:21.514954+00",
         "ended_at": "2021-01-03 10:10:21.514956+00",
         "task_duration_mins": 0,
         "rejection": "nan",
         "car_name": "Tesla Model X",
         "inactivity_duration": 33.1,
         "Month": "01-2021",
         "Deviation": 0,
         "Unnamed: 20": "nan",
         "Standard Deviations": "nan",
         "_deepnote_index_column": 0
        },
        {
         "class_id": 1024,
         "image_tag": "Car ahead",
         "state": "PROCESSED",
         "updated_at": "2021-01-04 19:25:20.685405+00",
         "total_task_duration": 5.6,
         "tat": 33.2,
         "task_id": 1981,
         "action_history": 485,
         "task_image_tag": "Car ahead",
         "finalized": "False",
         "approved": "True",
         "team": "sanfrancisco",
         "started_at": "2021-01-04 14:54:31.249017+00",
         "ended_at": "2021-01-04 14:59:34.839488+00",
         "task_duration_mins": 5.1,
         "rejection": "nan",
         "car_name": "Tesla Model X",
         "inactivity_duration": 33.1,
         "Month": "01-2021",
         "Deviation": 3.28,
         "Unnamed: 20": "nan",
         "Standard Deviations": "nan",
         "_deepnote_index_column": 1
        },
        {
         "class_id": 1024,
         "image_tag": "Car ahead",
         "state": "PROCESSED",
         "updated_at": "2021-01-04 19:25:20.685405+00",
         "total_task_duration": 5.6,
         "tat": 33.2,
         "task_id": 2031,
         "action_history": 485,
         "task_image_tag": "Car ahead",
         "finalized": "True",
         "approved": "True",
         "team": "sanfrancisco_reviewer",
         "started_at": "2021-01-04 19:21:36.725169+00",
         "ended_at": "2021-01-04 19:22:08.5326+00",
         "task_duration_mins": 0.5,
         "rejection": "nan",
         "car_name": "Tesla Model X",
         "inactivity_duration": 33.1,
         "Month": "01-2021",
         "Deviation": -0.34,
         "Unnamed: 20": "nan",
         "Standard Deviations": "nan",
         "_deepnote_index_column": 2
        },
        {
         "class_id": 1025,
         "image_tag": "Crosswalk",
         "state": "PROCESSED",
         "updated_at": "2021-01-04 19:35:20.681268+00",
         "total_task_duration": 1.8,
         "tat": 32.5,
         "task_id": 1915,
         "action_history": 491,
         "task_image_tag": "nan",
         "finalized": "False",
         "approved": "False",
         "team": "bot",
         "started_at": "2021-01-03 11:05:20.762356+00",
         "ended_at": "2021-01-03 11:05:20.762358+00",
         "task_duration_mins": 0,
         "rejection": "nan",
         "car_name": "Tesla Model X",
         "inactivity_duration": 32.5,
         "Month": "01-2021",
         "Deviation": 0,
         "Unnamed: 20": "nan",
         "Standard Deviations": "nan",
         "_deepnote_index_column": 3
        },
        {
         "class_id": 1025,
         "image_tag": "Crosswalk",
         "state": "PROCESSED",
         "updated_at": "2021-01-04 19:35:20.681268+00",
         "total_task_duration": 1.8,
         "tat": 32.5,
         "task_id": 1986,
         "action_history": 491,
         "task_image_tag": "Crosswalk",
         "finalized": "False",
         "approved": "True",
         "team": "sanfrancisco",
         "started_at": "2021-01-04 15:09:03.28909+00",
         "ended_at": "2021-01-04 15:10:21.426905+00",
         "task_duration_mins": 1.3,
         "rejection": "nan",
         "car_name": "Tesla Model X",
         "inactivity_duration": 32.5,
         "Month": "01-2021",
         "Deviation": -0.52,
         "Unnamed: 20": "nan",
         "Standard Deviations": "nan",
         "_deepnote_index_column": 4
        }
       ],
       "rows_bottom": null
      },
      "text/plain": "   class_id  image_tag      state                     updated_at  \\\n0      1024  Car ahead  PROCESSED  2021-01-04 19:25:20.685405+00   \n1      1024  Car ahead  PROCESSED  2021-01-04 19:25:20.685405+00   \n2      1024  Car ahead  PROCESSED  2021-01-04 19:25:20.685405+00   \n3      1025  Crosswalk  PROCESSED  2021-01-04 19:35:20.681268+00   \n4      1025  Crosswalk  PROCESSED  2021-01-04 19:35:20.681268+00   \n\n   total_task_duration   tat  task_id  action_history task_image_tag  \\\n0                  5.6  33.2     1909             485            NaN   \n1                  5.6  33.2     1981             485      Car ahead   \n2                  5.6  33.2     2031             485      Car ahead   \n3                  1.8  32.5     1915             491            NaN   \n4                  1.8  32.5     1986             491      Crosswalk   \n\n   finalized  ...                     started_at  \\\n0      False  ...  2021-01-03 10:10:21.514954+00   \n1      False  ...  2021-01-04 14:54:31.249017+00   \n2       True  ...  2021-01-04 19:21:36.725169+00   \n3      False  ...  2021-01-03 11:05:20.762356+00   \n4      False  ...   2021-01-04 15:09:03.28909+00   \n\n                        ended_at task_duration_mins rejection       car_name  \\\n0  2021-01-03 10:10:21.514956+00                0.0       NaN  Tesla Model X   \n1  2021-01-04 14:59:34.839488+00                5.1       NaN  Tesla Model X   \n2    2021-01-04 19:22:08.5326+00                0.5       NaN  Tesla Model X   \n3  2021-01-03 11:05:20.762358+00                0.0       NaN  Tesla Model X   \n4  2021-01-04 15:10:21.426905+00                1.3       NaN  Tesla Model X   \n\n  inactivity_duration    Month  Deviation Unnamed: 20  Standard Deviations  \n0                33.1  01-2021       0.00         NaN                  NaN  \n1                33.1  01-2021       3.28         NaN                  NaN  \n2                33.1  01-2021      -0.34         NaN                  NaN  \n3                32.5  01-2021       0.00         NaN                  NaN  \n4                32.5  01-2021      -0.52         NaN                  NaN  \n\n[5 rows x 22 columns]",
      "text/html": "<div>\n<style scoped>\n    .dataframe tbody tr th:only-of-type {\n        vertical-align: middle;\n    }\n\n    .dataframe tbody tr th {\n        vertical-align: top;\n    }\n\n    .dataframe thead th {\n        text-align: right;\n    }\n</style>\n<table border=\"1\" class=\"dataframe\">\n  <thead>\n    <tr style=\"text-align: right;\">\n      <th></th>\n      <th>class_id</th>\n      <th>image_tag</th>\n      <th>state</th>\n      <th>updated_at</th>\n      <th>total_task_duration</th>\n      <th>tat</th>\n      <th>task_id</th>\n      <th>action_history</th>\n      <th>task_image_tag</th>\n      <th>finalized</th>\n      <th>...</th>\n      <th>started_at</th>\n      <th>ended_at</th>\n      <th>task_duration_mins</th>\n      <th>rejection</th>\n      <th>car_name</th>\n      <th>inactivity_duration</th>\n      <th>Month</th>\n      <th>Deviation</th>\n      <th>Unnamed: 20</th>\n      <th>Standard Deviations</th>\n    </tr>\n  </thead>\n  <tbody>\n    <tr>\n      <th>0</th>\n      <td>1024</td>\n      <td>Car ahead</td>\n      <td>PROCESSED</td>\n      <td>2021-01-04 19:25:20.685405+00</td>\n      <td>5.6</td>\n      <td>33.2</td>\n      <td>1909</td>\n      <td>485</td>\n      <td>NaN</td>\n      <td>False</td>\n      <td>...</td>\n      <td>2021-01-03 10:10:21.514954+00</td>\n      <td>2021-01-03 10:10:21.514956+00</td>\n      <td>0.0</td>\n      <td>NaN</td>\n      <td>Tesla Model X</td>\n      <td>33.1</td>\n      <td>01-2021</td>\n      <td>0.00</td>\n      <td>NaN</td>\n      <td>NaN</td>\n    </tr>\n    <tr>\n      <th>1</th>\n      <td>1024</td>\n      <td>Car ahead</td>\n      <td>PROCESSED</td>\n      <td>2021-01-04 19:25:20.685405+00</td>\n      <td>5.6</td>\n      <td>33.2</td>\n      <td>1981</td>\n      <td>485</td>\n      <td>Car ahead</td>\n      <td>False</td>\n      <td>...</td>\n      <td>2021-01-04 14:54:31.249017+00</td>\n      <td>2021-01-04 14:59:34.839488+00</td>\n      <td>5.1</td>\n      <td>NaN</td>\n      <td>Tesla Model X</td>\n      <td>33.1</td>\n      <td>01-2021</td>\n      <td>3.28</td>\n      <td>NaN</td>\n      <td>NaN</td>\n    </tr>\n    <tr>\n      <th>2</th>\n      <td>1024</td>\n      <td>Car ahead</td>\n      <td>PROCESSED</td>\n      <td>2021-01-04 19:25:20.685405+00</td>\n      <td>5.6</td>\n      <td>33.2</td>\n      <td>2031</td>\n      <td>485</td>\n      <td>Car ahead</td>\n      <td>True</td>\n      <td>...</td>\n      <td>2021-01-04 19:21:36.725169+00</td>\n      <td>2021-01-04 19:22:08.5326+00</td>\n      <td>0.5</td>\n      <td>NaN</td>\n      <td>Tesla Model X</td>\n      <td>33.1</td>\n      <td>01-2021</td>\n      <td>-0.34</td>\n      <td>NaN</td>\n      <td>NaN</td>\n    </tr>\n    <tr>\n      <th>3</th>\n      <td>1025</td>\n      <td>Crosswalk</td>\n      <td>PROCESSED</td>\n      <td>2021-01-04 19:35:20.681268+00</td>\n      <td>1.8</td>\n      <td>32.5</td>\n      <td>1915</td>\n      <td>491</td>\n      <td>NaN</td>\n      <td>False</td>\n      <td>...</td>\n      <td>2021-01-03 11:05:20.762356+00</td>\n      <td>2021-01-03 11:05:20.762358+00</td>\n      <td>0.0</td>\n      <td>NaN</td>\n      <td>Tesla Model X</td>\n      <td>32.5</td>\n      <td>01-2021</td>\n      <td>0.00</td>\n      <td>NaN</td>\n      <td>NaN</td>\n    </tr>\n    <tr>\n      <th>4</th>\n      <td>1025</td>\n      <td>Crosswalk</td>\n      <td>PROCESSED</td>\n      <td>2021-01-04 19:35:20.681268+00</td>\n      <td>1.8</td>\n      <td>32.5</td>\n      <td>1986</td>\n      <td>491</td>\n      <td>Crosswalk</td>\n      <td>False</td>\n      <td>...</td>\n      <td>2021-01-04 15:09:03.28909+00</td>\n      <td>2021-01-04 15:10:21.426905+00</td>\n      <td>1.3</td>\n      <td>NaN</td>\n      <td>Tesla Model X</td>\n      <td>32.5</td>\n      <td>01-2021</td>\n      <td>-0.52</td>\n      <td>NaN</td>\n      <td>NaN</td>\n    </tr>\n  </tbody>\n</table>\n<p>5 rows × 22 columns</p>\n</div>"
     },
     "metadata": {}
    }
   ],
   "execution_count": null
  },
  {
   "cell_type": "code",
   "source": "",
   "metadata": {
    "tags": [],
    "cell_id": "00001-558e0bf8-1188-4d96-a1ab-7aabd1d37b45",
    "deepnote_to_be_reexecuted": false,
    "source_hash": "b623e53d",
    "execution_start": 1634170730419,
    "execution_millis": 0,
    "deepnote_cell_type": "code"
   },
   "outputs": [],
   "execution_count": null
  },
  {
   "cell_type": "code",
   "source": "\n\ndf_1 = _deepnote_execute_sql(\"\"\"SELECT \nmonth, image_tag, count(distinct task_id)\nFROM df \nwhere\nimage_tag in ('Car ahead','Pedestrian','Crosswalk')\ngroup by 1,2\n\n\"\"\", 'SQL_DEEPNOTE_DATAFRAME_SQL')\ndf_1",
   "metadata": {
    "tags": [],
    "deepnote_variable_name": "df_1",
    "sql_integration_id": "deepnote-dataframe-sql",
    "cell_id": "00002-df4ab891-5fcd-42c6-90fc-9549065fb4c5",
    "deepnote_to_be_reexecuted": false,
    "source_hash": "5d218929",
    "execution_start": 1634170730420,
    "execution_millis": 718,
    "deepnote_cell_type": "sql",
    "deepnote_sql_source": "SELECT \nmonth, image_tag, count(distinct task_id)\nFROM df \nwhere\nimage_tag in ('Car ahead','Pedestrian','Crosswalk')\ngroup by 1,2\n"
   },
   "outputs": [
    {
     "output_type": "execute_result",
     "execution_count": 2,
     "data": {
      "application/vnd.deepnote.dataframe.v2+json": {
       "row_count": 12,
       "column_count": 3,
       "columns": [
        {
         "name": "Month",
         "dtype": "object",
         "stats": {
          "unique_count": 4,
          "nan_count": 0,
          "categories": [
           {
            "name": "01-2021",
            "count": 3
           },
           {
            "name": "02-2021",
            "count": 3
           },
           {
            "name": "2 others",
            "count": 6
           }
          ]
         }
        },
        {
         "name": "image_tag",
         "dtype": "object",
         "stats": {
          "unique_count": 3,
          "nan_count": 0,
          "categories": [
           {
            "name": "Car ahead",
            "count": 4
           },
           {
            "name": "Pedestrian",
            "count": 4
           },
           {
            "name": "Crosswalk",
            "count": 4
           }
          ]
         }
        },
        {
         "name": "count(task_id)",
         "dtype": "int64",
         "stats": {
          "unique_count": 12,
          "nan_count": 0,
          "min": "51",
          "max": "789",
          "histogram": [
           {
            "bin_start": 51,
            "bin_end": 124.8,
            "count": 3
           },
           {
            "bin_start": 124.8,
            "bin_end": 198.6,
            "count": 0
           },
           {
            "bin_start": 198.6,
            "bin_end": 272.4,
            "count": 0
           },
           {
            "bin_start": 272.4,
            "bin_end": 346.2,
            "count": 2
           },
           {
            "bin_start": 346.2,
            "bin_end": 420,
            "count": 3
           },
           {
            "bin_start": 420,
            "bin_end": 493.79999999999995,
            "count": 2
           },
           {
            "bin_start": 493.79999999999995,
            "bin_end": 567.6,
            "count": 1
           },
           {
            "bin_start": 567.6,
            "bin_end": 641.4,
            "count": 0
           },
           {
            "bin_start": 641.4,
            "bin_end": 715.1999999999999,
            "count": 0
           },
           {
            "bin_start": 715.1999999999999,
            "bin_end": 789,
            "count": 1
           }
          ]
         }
        },
        {
         "name": "_deepnote_index_column",
         "dtype": "int64"
        }
       ],
       "rows_top": [
        {
         "Month": "01-2021",
         "image_tag": "Car ahead",
         "count(task_id)": 406,
         "_deepnote_index_column": 0
        },
        {
         "Month": "01-2021",
         "image_tag": "Pedestrian",
         "count(task_id)": 51,
         "_deepnote_index_column": 1
        },
        {
         "Month": "01-2021",
         "image_tag": "Crosswalk",
         "count(task_id)": 116,
         "_deepnote_index_column": 2
        },
        {
         "Month": "02-2021",
         "image_tag": "Car ahead",
         "count(task_id)": 357,
         "_deepnote_index_column": 3
        },
        {
         "Month": "02-2021",
         "image_tag": "Pedestrian",
         "count(task_id)": 97,
         "_deepnote_index_column": 4
        },
        {
         "Month": "02-2021",
         "image_tag": "Crosswalk",
         "count(task_id)": 508,
         "_deepnote_index_column": 5
        },
        {
         "Month": "03-2021",
         "image_tag": "Car ahead",
         "count(task_id)": 323,
         "_deepnote_index_column": 6
        },
        {
         "Month": "03-2021",
         "image_tag": "Pedestrian",
         "count(task_id)": 789,
         "_deepnote_index_column": 7
        },
        {
         "Month": "03-2021",
         "image_tag": "Crosswalk",
         "count(task_id)": 433,
         "_deepnote_index_column": 8
        },
        {
         "Month": "04-2021",
         "image_tag": "Car ahead",
         "count(task_id)": 310,
         "_deepnote_index_column": 9
        },
        {
         "Month": "04-2021",
         "image_tag": "Pedestrian",
         "count(task_id)": 397,
         "_deepnote_index_column": 10
        },
        {
         "Month": "04-2021",
         "image_tag": "Crosswalk",
         "count(task_id)": 438,
         "_deepnote_index_column": 11
        }
       ],
       "rows_bottom": null
      },
      "text/plain": "      Month   image_tag  count(task_id)\n0   01-2021   Car ahead             406\n1   01-2021  Pedestrian              51\n2   01-2021   Crosswalk             116\n3   02-2021   Car ahead             357\n4   02-2021  Pedestrian              97\n5   02-2021   Crosswalk             508\n6   03-2021   Car ahead             323\n7   03-2021  Pedestrian             789\n8   03-2021   Crosswalk             433\n9   04-2021   Car ahead             310\n10  04-2021  Pedestrian             397\n11  04-2021   Crosswalk             438",
      "text/html": "<div>\n<style scoped>\n    .dataframe tbody tr th:only-of-type {\n        vertical-align: middle;\n    }\n\n    .dataframe tbody tr th {\n        vertical-align: top;\n    }\n\n    .dataframe thead th {\n        text-align: right;\n    }\n</style>\n<table border=\"1\" class=\"dataframe\">\n  <thead>\n    <tr style=\"text-align: right;\">\n      <th></th>\n      <th>Month</th>\n      <th>image_tag</th>\n      <th>count(task_id)</th>\n    </tr>\n  </thead>\n  <tbody>\n    <tr>\n      <th>0</th>\n      <td>01-2021</td>\n      <td>Car ahead</td>\n      <td>406</td>\n    </tr>\n    <tr>\n      <th>1</th>\n      <td>01-2021</td>\n      <td>Pedestrian</td>\n      <td>51</td>\n    </tr>\n    <tr>\n      <th>2</th>\n      <td>01-2021</td>\n      <td>Crosswalk</td>\n      <td>116</td>\n    </tr>\n    <tr>\n      <th>3</th>\n      <td>02-2021</td>\n      <td>Car ahead</td>\n      <td>357</td>\n    </tr>\n    <tr>\n      <th>4</th>\n      <td>02-2021</td>\n      <td>Pedestrian</td>\n      <td>97</td>\n    </tr>\n    <tr>\n      <th>5</th>\n      <td>02-2021</td>\n      <td>Crosswalk</td>\n      <td>508</td>\n    </tr>\n    <tr>\n      <th>6</th>\n      <td>03-2021</td>\n      <td>Car ahead</td>\n      <td>323</td>\n    </tr>\n    <tr>\n      <th>7</th>\n      <td>03-2021</td>\n      <td>Pedestrian</td>\n      <td>789</td>\n    </tr>\n    <tr>\n      <th>8</th>\n      <td>03-2021</td>\n      <td>Crosswalk</td>\n      <td>433</td>\n    </tr>\n    <tr>\n      <th>9</th>\n      <td>04-2021</td>\n      <td>Car ahead</td>\n      <td>310</td>\n    </tr>\n    <tr>\n      <th>10</th>\n      <td>04-2021</td>\n      <td>Pedestrian</td>\n      <td>397</td>\n    </tr>\n    <tr>\n      <th>11</th>\n      <td>04-2021</td>\n      <td>Crosswalk</td>\n      <td>438</td>\n    </tr>\n  </tbody>\n</table>\n</div>"
     },
     "metadata": {}
    }
   ],
   "execution_count": null
  },
  {
   "cell_type": "code",
   "source": "df_chart=pd.DataFrame(df_1)",
   "metadata": {
    "tags": [],
    "cell_id": "00004-c701f0a7-2b97-4f2c-96fa-477e44ea7c3e",
    "deepnote_to_be_reexecuted": false,
    "source_hash": "2dbb4fd6",
    "execution_start": 1634170731020,
    "execution_millis": 527269,
    "deepnote_cell_type": "code"
   },
   "outputs": [],
   "execution_count": null
  },
  {
   "cell_type": "code",
   "source": "_deepnote_run_altair(df_chart, \"\"\"{\"$schema\":\"https://vega.github.io/schema/vega-lite/v4.json\",\"mark\":{\"type\":\"bar\",\"tooltip\":{\"content\":\"data\"}},\"height\":220,\"autosize\":{\"type\":\"fit\"},\"data\":{\"name\":\"placeholder\"},\"encoding\":{\"x\":{\"field\":\"Month\",\"type\":\"nominal\",\"sort\":null,\"scale\":{\"type\":\"linear\",\"zero\":false}},\"y\":{\"field\":\"count(task_id)\",\"type\":\"quantitative\",\"sort\":null,\"scale\":{\"type\":\"linear\",\"zero\":true}},\"color\":{\"field\":\"image_tag\",\"type\":\"nominal\",\"sort\":null,\"scale\":{\"type\":\"linear\",\"zero\":false}}}}\"\"\")",
   "metadata": {
    "cell_id": "00003-e1af5f3c-fcba-47f0-82ce-d5d8a3690ef1",
    "deepnote_variable_name": "df_chart",
    "deepnote_visualization_spec": {
     "$schema": "https://vega.github.io/schema/vega-lite/v4.json",
     "mark": {
      "type": "bar",
      "tooltip": {
       "content": "data"
      }
     },
     "height": 220,
     "autosize": {
      "type": "fit"
     },
     "data": {
      "name": "placeholder"
     },
     "encoding": {
      "x": {
       "field": "Month",
       "type": "nominal",
       "sort": null,
       "scale": {
        "type": "linear",
        "zero": false
       }
      },
      "y": {
       "field": "count(task_id)",
       "type": "quantitative",
       "sort": null,
       "scale": {
        "type": "linear",
        "zero": true
       }
      },
      "color": {
       "field": "image_tag",
       "type": "nominal",
       "sort": null,
       "scale": {
        "type": "linear",
        "zero": false
       }
      }
     }
    },
    "deepnote_to_be_reexecuted": false,
    "source_hash": "5542f57d",
    "execution_start": 1634170731071,
    "execution_millis": 374,
    "deepnote_cell_type": "visualization"
   },
   "outputs": [
    {
     "output_type": "execute_result",
     "execution_count": 4,
     "data": {
      "text/html": "\n<div id=\"altair-viz-5ee0e498edd449719202198d4f346bb6\"></div>\n<script type=\"text/javascript\">\n  (function(spec, embedOpt){\n    let outputDiv = document.currentScript.previousElementSibling;\n    if (outputDiv.id !== \"altair-viz-5ee0e498edd449719202198d4f346bb6\") {\n      outputDiv = document.getElementById(\"altair-viz-5ee0e498edd449719202198d4f346bb6\");\n    }\n    const paths = {\n      \"vega\": \"https://cdn.jsdelivr.net/npm//vega@5?noext\",\n      \"vega-lib\": \"https://cdn.jsdelivr.net/npm//vega-lib?noext\",\n      \"vega-lite\": \"https://cdn.jsdelivr.net/npm//vega-lite@4.8.1?noext\",\n      \"vega-embed\": \"https://cdn.jsdelivr.net/npm//vega-embed@6?noext\",\n    };\n\n    function loadScript(lib) {\n      return new Promise(function(resolve, reject) {\n        var s = document.createElement('script');\n        s.src = paths[lib];\n        s.async = true;\n        s.onload = () => resolve(paths[lib]);\n        s.onerror = () => reject(`Error loading script: ${paths[lib]}`);\n        document.getElementsByTagName(\"head\")[0].appendChild(s);\n      });\n    }\n\n    function showError(err) {\n      outputDiv.innerHTML = `<div class=\"error\" style=\"color:red;\">${err}</div>`;\n      throw err;\n    }\n\n    function displayChart(vegaEmbed) {\n      vegaEmbed(outputDiv, spec, embedOpt)\n        .catch(err => showError(`Javascript Error: ${err.message}<br>This usually means there's a typo in your chart specification. See the javascript console for the full traceback.`));\n    }\n\n    if(typeof define === \"function\" && define.amd) {\n      requirejs.config({paths});\n      require([\"vega-embed\"], displayChart, err => showError(`Error loading script: ${err.message}`));\n    } else if (typeof vegaEmbed === \"function\") {\n      displayChart(vegaEmbed);\n    } else {\n      loadScript(\"vega\")\n        .then(() => loadScript(\"vega-lite\"))\n        .then(() => loadScript(\"vega-embed\"))\n        .catch(showError)\n        .then(() => displayChart(vegaEmbed));\n    }\n  })({\"config\": {\"view\": {\"continuousWidth\": 400, \"continuousHeight\": 300}, \"area\": {\"fill\": \"#51C0E9\"}, \"axis\": {\"labelFont\": \"Inter, sans-serif\", \"labelFontSize\": 12, \"labelFontWeight\": \"normal\", \"labelLimit\": 60, \"labelOverlap\": \"greedy\", \"titleFont\": \"Inter, sans-serif\", \"titleFontSize\": 12, \"titleFontWeight\": \"bold\"}, \"background\": \"#ffffff\", \"legend\": {\"labelFont\": \"Inter, sans-serif\", \"labelFontSize\": 12, \"titleFont\": \"Inter, sans-serif\", \"titleFontSize\": 12, \"titleFontWeight\": \"bold\"}, \"line\": {\"stroke\": \"#51C0E9\", \"strokeWidth\": 2}, \"rect\": {\"fill\": \"#51C0E9\"}, \"title\": {\"anchor\": \"start\", \"color\": \"#000000\", \"font\": \"Inter, sans-serif\", \"fontSize\": 22, \"fontWeight\": \"normal\"}}, \"data\": {\"name\": \"data-d719ae0192be674fa017bd2b953df010\"}, \"mark\": {\"type\": \"bar\", \"tooltip\": {\"content\": \"data\"}}, \"autosize\": {\"type\": \"fit\"}, \"encoding\": {\"color\": {\"type\": \"nominal\", \"field\": \"image_tag\", \"scale\": {\"type\": \"linear\", \"zero\": false}, \"sort\": null}, \"x\": {\"type\": \"nominal\", \"field\": \"Month\", \"scale\": {\"type\": \"linear\", \"zero\": false}, \"sort\": null}, \"y\": {\"type\": \"quantitative\", \"field\": \"count(task_id)\", \"scale\": {\"type\": \"linear\", \"zero\": true}, \"sort\": null}}, \"height\": 300, \"width\": \"container\", \"$schema\": \"https://vega.github.io/schema/vega-lite/v4.json\", \"datasets\": {\"data-d719ae0192be674fa017bd2b953df010\": [{\"Month\": \"2021-01-01T00:00:00\", \"image_tag\": \"Car ahead\", \"count(task_id)\": 406}, {\"Month\": \"2021-01-01T00:00:00\", \"image_tag\": \"Pedestrian\", \"count(task_id)\": 51}, {\"Month\": \"2021-01-01T00:00:00\", \"image_tag\": \"Crosswalk\", \"count(task_id)\": 116}, {\"Month\": \"2021-02-01T00:00:00\", \"image_tag\": \"Car ahead\", \"count(task_id)\": 357}, {\"Month\": \"2021-02-01T00:00:00\", \"image_tag\": \"Pedestrian\", \"count(task_id)\": 97}, {\"Month\": \"2021-02-01T00:00:00\", \"image_tag\": \"Crosswalk\", \"count(task_id)\": 508}, {\"Month\": \"2021-03-01T00:00:00\", \"image_tag\": \"Car ahead\", \"count(task_id)\": 323}, {\"Month\": \"2021-03-01T00:00:00\", \"image_tag\": \"Pedestrian\", \"count(task_id)\": 789}, {\"Month\": \"2021-03-01T00:00:00\", \"image_tag\": \"Crosswalk\", \"count(task_id)\": 433}, {\"Month\": \"2021-04-01T00:00:00\", \"image_tag\": \"Car ahead\", \"count(task_id)\": 310}, {\"Month\": \"2021-04-01T00:00:00\", \"image_tag\": \"Pedestrian\", \"count(task_id)\": 397}, {\"Month\": \"2021-04-01T00:00:00\", \"image_tag\": \"Crosswalk\", \"count(task_id)\": 438}]}}, {\"actions\": false, \"mode\": \"vega-lite\"});\n</script>",
      "text/plain": "alt.Chart(...)"
     },
     "metadata": {}
    }
   ],
   "execution_count": null
  },
  {
   "cell_type": "markdown",
   "source": "<a style='text-decoration:none;line-height:16px;display:flex;color:#5B5B62;padding:10px;justify-content:end;' href='https://deepnote.com?utm_source=created-in-deepnote-cell&projectId=92458338-9167-40aa-9b9f-937dce6b6b72' target=\"_blank\">\n<img alt='Created in deepnote.com' style='display:inline;max-height:16px;margin:0px;margin-right:7.5px;' src='data:image/svg+xml;base64,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' > </img>\nCreated in <span style='font-weight:600;margin-left:4px;'>Deepnote</span></a>",
   "metadata": {
    "tags": [],
    "created_in_deepnote_cell": true,
    "deepnote_cell_type": "markdown"
   }
  }
 ],
 "nbformat": 4,
 "nbformat_minor": 2,
 "metadata": {
  "orig_nbformat": 2,
  "deepnote": {
   "is_reactive": false
  },
  "deepnote_notebook_id": "24717cf3-97e1-473a-bc80-def526f46560",
  "deepnote_execution_queue": []
 }
}